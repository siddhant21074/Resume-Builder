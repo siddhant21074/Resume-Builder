{
 "cells": [
  {
   "cell_type": "code",
   "execution_count": 1,
   "id": "9f8c195b",
   "metadata": {},
   "outputs": [],
   "source": [
    "import pandas as pd\n",
    "import ast"
   ]
  },
  {
   "cell_type": "code",
   "execution_count": 2,
   "id": "501222e7",
   "metadata": {},
   "outputs": [
    {
     "data": {
      "text/html": [
       "<div>\n",
       "<style scoped>\n",
       "    .dataframe tbody tr th:only-of-type {\n",
       "        vertical-align: middle;\n",
       "    }\n",
       "\n",
       "    .dataframe tbody tr th {\n",
       "        vertical-align: top;\n",
       "    }\n",
       "\n",
       "    .dataframe thead th {\n",
       "        text-align: right;\n",
       "    }\n",
       "</style>\n",
       "<table border=\"1\" class=\"dataframe\">\n",
       "  <thead>\n",
       "    <tr style=\"text-align: right;\">\n",
       "      <th></th>\n",
       "      <th>UserId</th>\n",
       "      <th>First Name</th>\n",
       "      <th>Last Name</th>\n",
       "      <th>Contact No</th>\n",
       "      <th>Email</th>\n",
       "      <th>Resident Address</th>\n",
       "      <th>Education</th>\n",
       "      <th>Project</th>\n",
       "      <th>Experience</th>\n",
       "      <th>Skills</th>\n",
       "      <th>Certificate</th>\n",
       "      <th>Achievement</th>\n",
       "      <th>Summary</th>\n",
       "    </tr>\n",
       "  </thead>\n",
       "  <tbody>\n",
       "    <tr>\n",
       "      <th>0</th>\n",
       "      <td>NaN</td>\n",
       "      <td>siddhant</td>\n",
       "      <td>thombare</td>\n",
       "      <td>7875757947</td>\n",
       "      <td>siddhantthombare2121@gmail.com</td>\n",
       "      <td>near hanuman mandir shahunagar kedgaon ahmednagar</td>\n",
       "      <td>{'collage1': ['Sanjivani', '2022-2026'], 'coll...</td>\n",
       "      <td>{'Project Title': 'Sample Project', 'Project D...</td>\n",
       "      <td>{'Job Title': 'Sample job', 'Job Duration': '2...</td>\n",
       "      <td>numpy,pandas,matplotlib,data science</td>\n",
       "      <td>Sample certificate</td>\n",
       "      <td>Sample Acheivement</td>\n",
       "      <td>This is summary\\n\\n</td>\n",
       "    </tr>\n",
       "  </tbody>\n",
       "</table>\n",
       "</div>"
      ],
      "text/plain": [
       "   UserId First Name Last Name  Contact No                           Email  \\\n",
       "0     NaN  siddhant   thombare  7875757947  siddhantthombare2121@gmail.com   \n",
       "\n",
       "                                    Resident Address  \\\n",
       "0  near hanuman mandir shahunagar kedgaon ahmednagar   \n",
       "\n",
       "                                           Education  \\\n",
       "0  {'collage1': ['Sanjivani', '2022-2026'], 'coll...   \n",
       "\n",
       "                                             Project  \\\n",
       "0  {'Project Title': 'Sample Project', 'Project D...   \n",
       "\n",
       "                                          Experience  \\\n",
       "0  {'Job Title': 'Sample job', 'Job Duration': '2...   \n",
       "\n",
       "                                 Skills         Certificate  \\\n",
       "0  numpy,pandas,matplotlib,data science  Sample certificate   \n",
       "\n",
       "          Achievement              Summary  \n",
       "0  Sample Acheivement  This is summary\\n\\n  "
      ]
     },
     "execution_count": 2,
     "metadata": {},
     "output_type": "execute_result"
    }
   ],
   "source": [
    "df = pd.read_csv('../OutputCSV/saved_data.csv')\n",
    "df"
   ]
  },
  {
   "cell_type": "code",
   "execution_count": null,
   "id": "b1b92235",
   "metadata": {},
   "outputs": [
    {
     "data": {
      "text/plain": [
       "'siddhant thombare'"
      ]
     },
     "execution_count": 3,
     "metadata": {},
     "output_type": "execute_result"
    }
   ],
   "source": [
    "first_name =  df['First Name'].iloc[0]\n",
    "last_name = df['Last Name'].iloc[0]\n",
    "name = first_name + ' ' + last_name\n",
    "name"
   ]
  },
  {
   "cell_type": "code",
   "execution_count": 4,
   "id": "e5903df6",
   "metadata": {},
   "outputs": [
    {
     "data": {
      "text/plain": [
       "7875757947"
      ]
     },
     "execution_count": 4,
     "metadata": {},
     "output_type": "execute_result"
    }
   ],
   "source": [
    "mob_no = df['Contact No'].iloc[0]\n",
    "mob_no"
   ]
  },
  {
   "cell_type": "code",
   "execution_count": 9,
   "id": "bec49f0c",
   "metadata": {},
   "outputs": [
    {
     "data": {
      "text/plain": [
       "'siddhantthombare2121@gmail.com'"
      ]
     },
     "execution_count": 9,
     "metadata": {},
     "output_type": "execute_result"
    }
   ],
   "source": [
    "email = df['Email'].iloc[0]\n",
    "email"
   ]
  },
  {
   "cell_type": "code",
   "execution_count": 11,
   "id": "25a3c0e9",
   "metadata": {},
   "outputs": [
    {
     "name": "stdout",
     "output_type": "stream",
     "text": [
      "asd ad21\n",
      "2 1\n"
     ]
    }
   ],
   "source": [
    "# Education data \n",
    "col1_name = ''\n",
    "col1_duration = ''\n",
    "col2_name = ''\n",
    "col2_duration = ''\n",
    "data = df['Education'].iloc[0]\n",
    "sample = ast.literal_eval(data)\n",
    "count = 1\n",
    "for values in sample.values():\n",
    "    if count == 1:\n",
    "        col1_name = values[0]\n",
    "        col1_duration = values[1]\n",
    "        count += 1\n",
    "    else:\n",
    "        col2_name = values[0]\n",
    "        col2_duration = values[1]\n",
    "    \n",
    "print(col1_name, col2_name)\n",
    "print(col1_duration, col2_duration)\n"
   ]
  },
  {
   "cell_type": "code",
   "execution_count": null,
   "id": "28844d88",
   "metadata": {},
   "outputs": [
    {
     "data": {
      "text/plain": [
       "'sdf'"
      ]
     },
     "execution_count": 21,
     "metadata": {},
     "output_type": "execute_result"
    }
   ],
   "source": [
    "# Project data\n",
    "proj_duration = ''\n",
    "proj_title = ''\n",
    "data = df['Project'].iloc[0]\n",
    "sample = ast.literal_eval(data)\n",
    "count = 1\n",
    "for values in sample.values():\n",
    "    if count == 1:\n",
    "        proj_title = values\n",
    "        count += 1\n",
    "    else:\n",
    "        proj_disc = values"
   ]
  },
  {
   "cell_type": "code",
   "execution_count": 23,
   "id": "73759aff",
   "metadata": {},
   "outputs": [
    {
     "name": "stdout",
     "output_type": "stream",
     "text": [
      "dfasd 212 asd\n"
     ]
    }
   ],
   "source": [
    "# Experience data\n",
    "job_title = ''\n",
    "job_durn = ''\n",
    "job_disc = ''\n",
    "\n",
    "data = df['Experience'].iloc[0]\n",
    "sample = ast.literal_eval(data)\n",
    "count = 1\n",
    "for values in sample.values():\n",
    "    if count == 1:\n",
    "        job_title = values\n",
    "        count += 1\n",
    "    elif count == 2:\n",
    "        job_durn = values\n",
    "        count += 1\n",
    "    else:\n",
    "        job_disc =  values\n",
    "\n",
    "print(job_title,job_durn,job_disc)"
   ]
  },
  {
   "cell_type": "code",
   "execution_count": 6,
   "id": "97e919ab",
   "metadata": {},
   "outputs": [
    {
     "data": {
      "text/plain": [
       "['numpy', 'pandas', 'matplotlib', 'data science']"
      ]
     },
     "execution_count": 6,
     "metadata": {},
     "output_type": "execute_result"
    }
   ],
   "source": [
    "skill_list = df['Skills'].iloc[0].split(',')\n",
    "skill_list"
   ]
  },
  {
   "cell_type": "code",
   "execution_count": 7,
   "id": "e27ea354",
   "metadata": {},
   "outputs": [
    {
     "data": {
      "text/plain": [
       "['Sample Acheivement']"
      ]
     },
     "execution_count": 7,
     "metadata": {},
     "output_type": "execute_result"
    }
   ],
   "source": [
    "acheive_list = df['Achievement'].iloc[0].split(',')\n",
    "acheive_list"
   ]
  },
  {
   "cell_type": "code",
   "execution_count": 44,
   "id": "ab186fc8",
   "metadata": {},
   "outputs": [],
   "source": [
    "cert_list = df['Certificate'].iloc[0].split(',')"
   ]
  },
  {
   "cell_type": "code",
   "execution_count": null,
   "id": "35b66fa7",
   "metadata": {},
   "outputs": [],
   "source": [
    "summary = df['Summary'].iloc[0]"
   ]
  }
 ],
 "metadata": {
  "kernelspec": {
   "display_name": "base",
   "language": "python",
   "name": "python3"
  },
  "language_info": {
   "codemirror_mode": {
    "name": "ipython",
    "version": 3
   },
   "file_extension": ".py",
   "mimetype": "text/x-python",
   "name": "python",
   "nbconvert_exporter": "python",
   "pygments_lexer": "ipython3",
   "version": "3.12.4"
  }
 },
 "nbformat": 4,
 "nbformat_minor": 5
}
